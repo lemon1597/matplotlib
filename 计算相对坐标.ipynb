{
 "cells": [
  {
   "cell_type": "markdown",
   "metadata": {
    "collapsed": false
   },
   "source": [
    "# 1 创建坐标张量"
   ]
  },
  {
   "cell_type": "code",
   "execution_count": 2,
   "metadata": {
    "ExecuteTime": {
     "end_time": "2024-05-18T13:01:51.672714Z",
     "start_time": "2024-05-18T13:01:51.647923Z"
    },
    "collapsed": false
   },
   "outputs": [
    {
     "name": "stderr",
     "output_type": "stream",
     "text": [
      "e:\\Apps\\anaconda3\\lib\\site-packages\\torch\\functional.py:504: UserWarning: torch.meshgrid: in an upcoming release, it will be required to pass the indexing argument. (Triggered internally at C:\\actions-runner\\_work\\pytorch\\pytorch\\builder\\windows\\pytorch\\aten\\src\\ATen\\native\\TensorShape.cpp:3191.)\n",
      "  return _VF.meshgrid(tensors, **kwargs)  # type: ignore[attr-defined]\n"
     ]
    },
    {
     "data": {
      "text/plain": [
       "tensor([[[0, 0],\n",
       "         [1, 1]],\n",
       "\n",
       "        [[0, 1],\n",
       "         [0, 1]]])"
      ]
     },
     "execution_count": 2,
     "metadata": {},
     "output_type": "execute_result"
    }
   ],
   "source": [
    "import torch\n",
    "\n",
    "height = 2\n",
    "width = 2\n",
    "\n",
    "coords_h = torch.arange(height)\n",
    "coords_w = torch.arange(width)\n",
    "coords = torch.stack(torch.meshgrid([coords_h, coords_w]))\n",
    "coords"
   ]
  },
  {
   "cell_type": "markdown",
   "metadata": {
    "collapsed": false
   },
   "source": [
    "# 2 展平"
   ]
  },
  {
   "cell_type": "code",
   "execution_count": 3,
   "metadata": {
    "ExecuteTime": {
     "end_time": "2024-05-18T13:02:00.553396Z",
     "start_time": "2024-05-18T13:02:00.538865Z"
    },
    "collapsed": false
   },
   "outputs": [
    {
     "data": {
      "text/plain": [
       "tensor([[0, 0, 1, 1],\n",
       "        [0, 1, 0, 1]])"
      ]
     },
     "execution_count": 3,
     "metadata": {},
     "output_type": "execute_result"
    }
   ],
   "source": [
    "coords_flatten = torch.flatten(coords, 1)\n",
    "coords_flatten"
   ]
  },
  {
   "cell_type": "markdown",
   "metadata": {
    "collapsed": false
   },
   "source": [
    "上述结果，生成了形状为 2x4 的张量，\n",
    "- 第一行表示高度坐标\n",
    "- 第二行表示宽度坐标"
   ]
  },
  {
   "cell_type": "markdown",
   "metadata": {
    "collapsed": false
   },
   "source": [
    "# 3 增加维度\n",
    "- 对于高度方向，在最后增加一个新维度，使形状从 `[2, 4]` -> `[2, 4, 1]`\n",
    "- 对于宽度方向，在中间增加一个新维度，使形状从 `[2, 4]` -> `[2, 1, 4]`"
   ]
  },
  {
   "cell_type": "code",
   "execution_count": 4,
   "metadata": {
    "ExecuteTime": {
     "end_time": "2024-05-18T13:10:13.157549Z",
     "start_time": "2024-05-18T13:10:13.139143Z"
    },
    "collapsed": false
   },
   "outputs": [],
   "source": [
    "coords_flatten_1 = coords_flatten[:,:, None]\n",
    "coords_flatten_2 = coords_flatten[:, None,:]"
   ]
  },
  {
   "cell_type": "code",
   "execution_count": 5,
   "metadata": {
    "ExecuteTime": {
     "end_time": "2024-05-18T13:10:26.656673Z",
     "start_time": "2024-05-18T13:10:26.642062Z"
    },
    "collapsed": false
   },
   "outputs": [
    {
     "data": {
      "text/plain": [
       "tensor([[[0],\n",
       "         [0],\n",
       "         [1],\n",
       "         [1]],\n",
       "\n",
       "        [[0],\n",
       "         [1],\n",
       "         [0],\n",
       "         [1]]])"
      ]
     },
     "execution_count": 5,
     "metadata": {},
     "output_type": "execute_result"
    }
   ],
   "source": [
    "coords_flatten_1"
   ]
  },
  {
   "cell_type": "code",
   "execution_count": 6,
   "metadata": {
    "ExecuteTime": {
     "end_time": "2024-05-18T13:10:38.214469Z",
     "start_time": "2024-05-18T13:10:38.165601Z"
    },
    "collapsed": false
   },
   "outputs": [
    {
     "data": {
      "text/plain": [
       "tensor([[[0, 0, 1, 1]],\n",
       "\n",
       "        [[0, 1, 0, 1]]])"
      ]
     },
     "execution_count": 6,
     "metadata": {},
     "output_type": "execute_result"
    }
   ],
   "source": [
    "coords_flatten_2"
   ]
  },
  {
   "cell_type": "markdown",
   "metadata": {
    "collapsed": false
   },
   "source": [
    "# 4 计算相对坐标差\n",
    "对坐标进行广播\n",
    "- 对coords_flatten_1 张量的形状进行扩展，从 `[2, 4, 1]` -> `[2, 4, 4]`\n",
    "- 对coords_flatten_2 张量的形状进行扩展，从 `[2, 1, 4]` -> `[2, 4, 4]`"
   ]
  },
  {
   "cell_type": "code",
   "execution_count": 7,
   "metadata": {
    "ExecuteTime": {
     "end_time": "2024-05-18T13:19:23.382980Z",
     "start_time": "2024-05-18T13:19:23.376116Z"
    },
    "collapsed": false
   },
   "outputs": [],
   "source": [
    "coords_flatten_1_broadcast = coords_flatten_1.expand(-1, -1, 4)\n",
    "coords_flatten_2_broadcast = coords_flatten_2.expand(-1, 4, -1)"
   ]
  },
  {
   "cell_type": "code",
   "execution_count": 8,
   "metadata": {
    "ExecuteTime": {
     "end_time": "2024-05-18T13:19:28.863945Z",
     "start_time": "2024-05-18T13:19:28.840611Z"
    },
    "collapsed": false
   },
   "outputs": [
    {
     "data": {
      "text/plain": [
       "tensor([[[0, 0, 0, 0],\n",
       "         [0, 0, 0, 0],\n",
       "         [1, 1, 1, 1],\n",
       "         [1, 1, 1, 1]],\n",
       "\n",
       "        [[0, 0, 0, 0],\n",
       "         [1, 1, 1, 1],\n",
       "         [0, 0, 0, 0],\n",
       "         [1, 1, 1, 1]]])"
      ]
     },
     "execution_count": 8,
     "metadata": {},
     "output_type": "execute_result"
    }
   ],
   "source": [
    "coords_flatten_1_broadcast"
   ]
  },
  {
   "cell_type": "code",
   "execution_count": 9,
   "metadata": {
    "ExecuteTime": {
     "end_time": "2024-05-18T13:19:38.375575Z",
     "start_time": "2024-05-18T13:19:38.368998Z"
    },
    "collapsed": false
   },
   "outputs": [
    {
     "data": {
      "text/plain": [
       "tensor([[[0, 0, 1, 1],\n",
       "         [0, 0, 1, 1],\n",
       "         [0, 0, 1, 1],\n",
       "         [0, 0, 1, 1]],\n",
       "\n",
       "        [[0, 1, 0, 1],\n",
       "         [0, 1, 0, 1],\n",
       "         [0, 1, 0, 1],\n",
       "         [0, 1, 0, 1]]])"
      ]
     },
     "execution_count": 9,
     "metadata": {},
     "output_type": "execute_result"
    }
   ],
   "source": [
    "coords_flatten_2_broadcast"
   ]
  },
  {
   "cell_type": "markdown",
   "metadata": {},
   "source": [
    "观察上述结果\n",
    "coords_flatten_1_broadcast 的结果显示，它是一个[2, 4, 4]的张量，\n",
    "- `[0,:,:]`表示高度方向上的坐标，在水平方向上进行扩展，每一行中的元素表示相同的位置的高度\n",
    "- `[1:,:,:]`表示宽度方向上的坐标，在水平方向上进行扩展，每一行中的元素表示相同的位置的宽度\n",
    "\n",
    "\n",
    "coords_flatten_2_broadcast 的结果显示，它是一个[2, 4, 4]的张量，\n",
    "- `[0,:,:]`表示高度方向上的坐标，在竖直方向上进行扩展，每一行中的元素表示不同的位置的高度\n",
    "- `[1:,:,:]`表示宽度方向上的坐标，在竖直方向上进行扩展，每一行中的元素表示不同的位置的宽度\n",
    "\n",
    "计算坐标相对位置差的思想是：\n",
    "每个坐标位置点与其他所有坐标位置坐标点的差值，即为相对位置差。\n",
    "\n",
    "因此，我们可以计算相对位置差的公式如下：\n",
    "\n",
    "relative_position_diff = coords_flatten_1_broadcast - coords_flatten_2_broadcast\n"
   ]
  },
  {
   "cell_type": "code",
   "execution_count": 10,
   "metadata": {
    "collapsed": false
   },
   "outputs": [],
   "source": [
    "relatetive_coords = coords_flatten_1_broadcast - coords_flatten_2_broadcast"
   ]
  },
  {
   "cell_type": "code",
   "execution_count": 11,
   "metadata": {},
   "outputs": [
    {
     "data": {
      "text/plain": [
       "tensor([[[ 0,  0, -1, -1],\n",
       "         [ 0,  0, -1, -1],\n",
       "         [ 1,  1,  0,  0],\n",
       "         [ 1,  1,  0,  0]],\n",
       "\n",
       "        [[ 0, -1,  0, -1],\n",
       "         [ 1,  0,  1,  0],\n",
       "         [ 0, -1,  0, -1],\n",
       "         [ 1,  0,  1,  0]]])"
      ]
     },
     "execution_count": 11,
     "metadata": {},
     "output_type": "execute_result"
    }
   ],
   "source": [
    "relatetive_coords"
   ]
  },
  {
   "cell_type": "markdown",
   "metadata": {},
   "source": [
    "relative_coords 结果是`[2, 4, 4]`\n",
    "- `[0,:,:]` 表示高度方向上的坐标差，`[0, i, j]`表示窗口内第`i`个点相对于第`j`个点的坐标高度方向上的坐标差。\n",
    "\n",
    "第一行表示`(0,0)`点到其他所有坐标点的高度方向上的差值；\n",
    "\n",
    "第二行表示`(0,1)`点到其他所有坐标点的高度方向上的差值；\n",
    "\n",
    "第三行表示`(1,0)`点到其他所有坐标点的高度方向上的差值；\n",
    "\n",
    "第四行表示`(1,1)`点到其他所有坐标点的高度方向上的差值。\n",
    "\n",
    "例如：`[0,0,0]` 表示 `(0,0)` 点到`(0,0)`的高度方向上的差值, 值为0。\n",
    "\n",
    "`[0,0,1]`表示`(0,0)`点到`(0,1)`的高度方向上的差值, 值为0。\n",
    "\n",
    "`[0,1,0]`表示`(0,1)`点到`(0,0)`的高度方向上的差值, 值为0。\n",
    "\n",
    "`[0,1,3]`表示`(0,1)`点到`(1,1)`的高度方向上的差值, 值为-1。\n",
    "\n",
    "---\n",
    "\n",
    "- `[1,:,:]` 表示宽度方向上的坐标差，`[1, i, j]`表示窗口内第`i`个点相对于第`j`个点的坐标宽度方向上的坐标差。\n",
    "\n",
    "第一行表示`(0,0)`点到其他所有坐标点的宽度方向上的差值；\n",
    "\n",
    "第二行表示`(0,1)`点到其他所有坐标点的宽度方向上的差值；\n",
    "\n",
    "第三行表示`(1,0)`点到其他所有坐标点的宽度方向上的差值；\n",
    "\n",
    "第四行表示`(1,1)`点到其他所有坐标点的宽度方向上的差值。\n",
    "\n",
    "例如：`[1,0,0]` 表示 `(0,0)` 点到`(0,0)`的宽度方向上的差值, 值为0。\n",
    "\n",
    "`[1,0,1]`表示`(0,0)`点到`(0,1)`的宽度方向上的差值, 值为-1。        \n",
    "\n",
    "`[1,1,0]`表示`(0,1)`点到`(0,0)`的宽度方向上的差值, 值为1。\n",
    "\n",
    "`[1,1,3]`表示`(0,1)`点到`(1,1)`的宽度方向上的差值, 值为0。\n",
    "\n"
   ]
  },
  {
   "cell_type": "markdown",
   "metadata": {},
   "source": [
    "# 5 将相对坐标差转换为三维张量"
   ]
  },
  {
   "cell_type": "code",
   "execution_count": 12,
   "metadata": {},
   "outputs": [],
   "source": [
    "relatetive_coords = relatetive_coords.permute(1, 2, 0).contiguous()"
   ]
  },
  {
   "cell_type": "code",
   "execution_count": 13,
   "metadata": {},
   "outputs": [
    {
     "data": {
      "text/plain": [
       "tensor([[[ 0,  0],\n",
       "         [ 0, -1],\n",
       "         [-1,  0],\n",
       "         [-1, -1]],\n",
       "\n",
       "        [[ 0,  1],\n",
       "         [ 0,  0],\n",
       "         [-1,  1],\n",
       "         [-1,  0]],\n",
       "\n",
       "        [[ 1,  0],\n",
       "         [ 1, -1],\n",
       "         [ 0,  0],\n",
       "         [ 0, -1]],\n",
       "\n",
       "        [[ 1,  1],\n",
       "         [ 1,  0],\n",
       "         [ 0,  1],\n",
       "         [ 0,  0]]])"
      ]
     },
     "execution_count": 13,
     "metadata": {},
     "output_type": "execute_result"
    }
   ],
   "source": [
    "relatetive_coords"
   ]
  },
  {
   "cell_type": "markdown",
   "metadata": {},
   "source": [
    "上述结果是一个形状为`[4,4,2]`的张量，`[i,j,:]`表示第i+1个坐标点相对第j+1个坐标点的坐标差值。\n",
    "\n",
    "`[0,:,:]`表示第1个坐标点相对其他所有坐标点的坐标差值，\n",
    "\n",
    "`[1,:,:]`表示第2个坐标点相对其他所有坐标点的坐标差值，\n",
    "\n",
    "以此类推，`[3,:,:]`表示第4个坐标点相对其他所有坐标点的坐标差值。\n",
    "\n",
    "例如：\n",
    "\n",
    "`[0,0,:]`表示第1个坐标点相对第1个坐标点的坐标差值，`[0,0]`，表示第1个坐标点和第1个坐标点（自己）的高度差为0，宽度差为0。\n",
    "\n",
    "`[0,1,:]`表示第1个坐标点相对第2个坐标点的坐标差值，`[0,1]`，表示第1个坐标点相对第2个坐标点的高度差为0，宽度差为-1。\n",
    "\n",
    "`[1,2,:]`表示第2个坐标点相对第3个坐标点的坐标差值，`[-1,1]`，表示第2个坐标点相对第3个坐标点的高度差为-1，宽度差为1。\n",
    "\n",
    "以此类推，`[3,3,:]`表示第4个坐标点相对第4个坐标点的坐标差值，`[0,0]`，表示第4个坐标点和第4个坐标点（自己）的高度差为0，宽度差为0。"
   ]
  },
  {
   "cell_type": "markdown",
   "metadata": {},
   "source": []
  }
 ],
 "metadata": {
  "kernelspec": {
   "display_name": "Python 3",
   "language": "python",
   "name": "python3"
  },
  "language_info": {
   "codemirror_mode": {
    "name": "ipython",
    "version": 3
   },
   "file_extension": ".py",
   "mimetype": "text/x-python",
   "name": "python",
   "nbconvert_exporter": "python",
   "pygments_lexer": "ipython3",
   "version": "3.9.13"
  }
 },
 "nbformat": 4,
 "nbformat_minor": 0
}
