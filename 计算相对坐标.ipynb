{
 "cells": [
  {
   "cell_type": "markdown",
   "source": [
    "# 1 创建坐标张量"
   ],
   "metadata": {
    "collapsed": false
   }
  },
  {
   "cell_type": "code",
   "execution_count": 2,
   "outputs": [
    {
     "data": {
      "text/plain": "tensor([[[0, 0],\n         [1, 1]],\n\n        [[0, 1],\n         [0, 1]]])"
     },
     "execution_count": 2,
     "metadata": {},
     "output_type": "execute_result"
    }
   ],
   "source": [
    "import torch\n",
    "\n",
    "height = 2\n",
    "width = 2\n",
    "\n",
    "coords_h = torch.arange(height)\n",
    "coords_w = torch.arange(width)\n",
    "coords = torch.stack(torch.meshgrid([coords_h, coords_w]))\n",
    "coords"
   ],
   "metadata": {
    "collapsed": false,
    "ExecuteTime": {
     "start_time": "2024-05-18T13:01:51.647923Z",
     "end_time": "2024-05-18T13:01:51.672714Z"
    }
   }
  },
  {
   "cell_type": "markdown",
   "source": [
    "# 2 展平"
   ],
   "metadata": {
    "collapsed": false
   }
  },
  {
   "cell_type": "code",
   "execution_count": 3,
   "outputs": [
    {
     "data": {
      "text/plain": "tensor([[0, 0, 1, 1],\n        [0, 1, 0, 1]])"
     },
     "execution_count": 3,
     "metadata": {},
     "output_type": "execute_result"
    }
   ],
   "source": [
    "coords_flatten = torch.flatten(coords, 1)\n",
    "coords_flatten"
   ],
   "metadata": {
    "collapsed": false,
    "ExecuteTime": {
     "start_time": "2024-05-18T13:02:00.538865Z",
     "end_time": "2024-05-18T13:02:00.553396Z"
    }
   }
  },
  {
   "cell_type": "markdown",
   "source": [
    "上述结果，生成了形状为 2x4 的张量，\n",
    "- 第一行表示高度坐标\n",
    "- 第二行表示宽度坐标"
   ],
   "metadata": {
    "collapsed": false
   }
  },
  {
   "cell_type": "markdown",
   "source": [
    "# 3 增加维度\n",
    "- 对于高度方向，在最后增加一个新维度，使形状从 `[2, 4]` -> `[2, 4, 1]`\n",
    "- 对于宽度方向，在中间增加一个新维度，使形状从 `[2, 4]` -> `[2, 1, 4]`"
   ],
   "metadata": {
    "collapsed": false
   }
  },
  {
   "cell_type": "code",
   "execution_count": 6,
   "outputs": [],
   "source": [
    "coords_flatten_1 = coords_flatten[:,:, None]\n",
    "coords_flatten_2 = coords_flatten[:, None,:]"
   ],
   "metadata": {
    "collapsed": false,
    "ExecuteTime": {
     "start_time": "2024-05-18T13:10:13.139143Z",
     "end_time": "2024-05-18T13:10:13.157549Z"
    }
   }
  },
  {
   "cell_type": "code",
   "execution_count": 8,
   "outputs": [
    {
     "data": {
      "text/plain": "tensor([[[0],\n         [0],\n         [1],\n         [1]],\n\n        [[0],\n         [1],\n         [0],\n         [1]]])"
     },
     "execution_count": 8,
     "metadata": {},
     "output_type": "execute_result"
    }
   ],
   "source": [
    "coords_flatten_1"
   ],
   "metadata": {
    "collapsed": false,
    "ExecuteTime": {
     "start_time": "2024-05-18T13:10:26.642062Z",
     "end_time": "2024-05-18T13:10:26.656673Z"
    }
   }
  },
  {
   "cell_type": "code",
   "execution_count": 9,
   "outputs": [
    {
     "data": {
      "text/plain": "tensor([[[0, 0, 1, 1]],\n\n        [[0, 1, 0, 1]]])"
     },
     "execution_count": 9,
     "metadata": {},
     "output_type": "execute_result"
    }
   ],
   "source": [
    "coords_flatten_2"
   ],
   "metadata": {
    "collapsed": false,
    "ExecuteTime": {
     "start_time": "2024-05-18T13:10:38.165601Z",
     "end_time": "2024-05-18T13:10:38.214469Z"
    }
   }
  },
  {
   "cell_type": "markdown",
   "source": [
    "# 4 计算相对坐标差\n",
    "对坐标进行广播\n",
    "- 对coords_flatten_1 张量的形状进行扩展，从 `[2, 4, 1]` -> `[2, 4, 4]`\n",
    "- 对coords_flatten_2 张量的形状进行扩展，从 `[2, 1, 4]` -> `[2, 4, 4]`"
   ],
   "metadata": {
    "collapsed": false
   }
  },
  {
   "cell_type": "code",
   "execution_count": 13,
   "outputs": [],
   "source": [
    "coords_flatten_1_broadcast = coords_flatten_1.expand(-1, -1, 4)\n",
    "coords_flatten_2_broadcast = coords_flatten_2.expand(-1, 4, -1)"
   ],
   "metadata": {
    "collapsed": false,
    "ExecuteTime": {
     "start_time": "2024-05-18T13:19:23.376116Z",
     "end_time": "2024-05-18T13:19:23.382980Z"
    }
   }
  },
  {
   "cell_type": "code",
   "execution_count": 14,
   "outputs": [
    {
     "data": {
      "text/plain": "tensor([[[0, 0, 0, 0],\n         [0, 0, 0, 0],\n         [1, 1, 1, 1],\n         [1, 1, 1, 1]],\n\n        [[0, 0, 0, 0],\n         [1, 1, 1, 1],\n         [0, 0, 0, 0],\n         [1, 1, 1, 1]]])"
     },
     "execution_count": 14,
     "metadata": {},
     "output_type": "execute_result"
    }
   ],
   "source": [
    "coords_flatten_1_broadcast"
   ],
   "metadata": {
    "collapsed": false,
    "ExecuteTime": {
     "start_time": "2024-05-18T13:19:28.840611Z",
     "end_time": "2024-05-18T13:19:28.863945Z"
    }
   }
  },
  {
   "cell_type": "code",
   "execution_count": 16,
   "outputs": [
    {
     "data": {
      "text/plain": "tensor([[[0, 0, 1, 1],\n         [0, 0, 1, 1],\n         [0, 0, 1, 1],\n         [0, 0, 1, 1]],\n\n        [[0, 1, 0, 1],\n         [0, 1, 0, 1],\n         [0, 1, 0, 1],\n         [0, 1, 0, 1]]])"
     },
     "execution_count": 16,
     "metadata": {},
     "output_type": "execute_result"
    }
   ],
   "source": [
    "coords_flatten_2_broadcast"
   ],
   "metadata": {
    "collapsed": false,
    "ExecuteTime": {
     "start_time": "2024-05-18T13:19:38.368998Z",
     "end_time": "2024-05-18T13:19:38.375575Z"
    }
   }
  },
  {
   "cell_type": "code",
   "execution_count": null,
   "outputs": [],
   "source": [],
   "metadata": {
    "collapsed": false
   }
  }
 ],
 "metadata": {
  "kernelspec": {
   "display_name": "Python 3",
   "language": "python",
   "name": "python3"
  },
  "language_info": {
   "codemirror_mode": {
    "name": "ipython",
    "version": 2
   },
   "file_extension": ".py",
   "mimetype": "text/x-python",
   "name": "python",
   "nbconvert_exporter": "python",
   "pygments_lexer": "ipython2",
   "version": "2.7.6"
  }
 },
 "nbformat": 4,
 "nbformat_minor": 0
}
